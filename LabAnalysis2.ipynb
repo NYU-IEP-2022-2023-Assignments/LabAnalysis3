{
  "nbformat": 4,
  "nbformat_minor": 0,
  "metadata": {
    "colab": {
      "name": "LabAnalysis1.ipynb",
      "provenance": [],
      "collapsed_sections": [],
      "include_colab_link": true
    },
    "kernelspec": {
      "name": "python3",
      "display_name": "Python 3"
    },
    "language_info": {
      "name": "python"
    }
  },
  "cells": [
    {
      "cell_type": "markdown",
      "metadata": {
        "id": "view-in-github",
        "colab_type": "text"
      },
      "source": [
        "<a href=\"https://colab.research.google.com/github/NYU-IEP-2022-2023-Assignments/LabAnalysis2/blob/main/LabAnalysis2.ipynb\" target=\"_parent\"><img src=\"https://colab.research.google.com/assets/colab-badge.svg\" alt=\"Open In Colab\"/></a>"
      ]
    },
    {
      "cell_type": "code",
      "metadata": {
        "id": "js12JqEMpg0J"
      },
      "source": [
        "import numpy as np\n",
        "import matplotlib.pyplot as plt"
      ],
      "execution_count": null,
      "outputs": []
    },
    {
      "cell_type": "markdown",
      "metadata": {
        "id": "nkap2yKDplvH"
      },
      "source": [
        "##Data entry\n",
        "In the cell below, please type in your results from your lab book. For instance, hand_c would have the 10 measurements of the period you made by counting one swing by hand by method c, while platform_c would have the automated measurements you made using method c'\n",
        "\n",
        "I ask you to reenter hand_c because you'll use that for comparison later. You can cut and paste from your LabAnalysis1 if you want. "
      ]
    },
    {
      "cell_type": "code",
      "metadata": {
        "id": "Vb-KdWFBqCKu"
      },
      "source": [
        "hand_c = np.array([]) #measurements made by hand, method C\n",
        "\n",
        "platform_a = np.array([]) #measurements made using platform, method A\n",
        "platform_b = np.array([]) #measurements made using platform, method B\n",
        "platform_c = np.array([]) #measurements made using platform, method C'\n",
        "\n",
        "delta_length = np.array([0,-1,-2,0,1,2,0]) #length change in mm\n",
        "period_vs_length = [[], [], [],[],[],[],[]] #measurements for each of the 7 conditions above; I didn't convert to array, because you might have a different number of measurements for each length change\n"
      ],
      "execution_count": null,
      "outputs": []
    },
    {
      "cell_type": "markdown",
      "metadata": {
        "id": "a0ViWxyy5P-q"
      },
      "source": [
        "## Analysis of platform measurements\n",
        "1. Calculate the mean ($\\mu$), standard deviation ($\\sigma$), and standard error of the mean (s.e.m.) for hand measurement C and for each of your platfor measurements A-C'. Use 1/(N-1) to calculate the standard deviation. Print these out as a table.\n",
        "2. Plot the standard deviation vs. the number of periods counted, using circle markers connected with a line. \n",
        "3. Make an error plot with the x axis representing the measurement set (1 = A, 2 = B, 3 = C') and the mean and s.e.m. as the y center and error range respectively. Don't connect the markers with a line. Set the X-ticks to be 1,2,3. If you are fancy, you can change the X-tick labels from 1,2,3 to 1,10,25. But you don't have to. \n",
        "4.  Make a histogram showing all 3 measurement sets in different colors. Use 20 bins spanning the range between $\\mu_{C'} - 3\\sigma_A$ and $\\mu_{C'} + 3\\sigma_A$. Add a legend to your plot to explain which color goes with which data set. "
      ]
    },
    {
      "cell_type": "code",
      "metadata": {
        "id": "-0P9es9F6rah"
      },
      "source": [
        "## Write your code to analysis of platform measurements here"
      ],
      "execution_count": null,
      "outputs": []
    },
    {
      "cell_type": "markdown",
      "metadata": {
        "id": "0DcsB87q6u5p"
      },
      "source": [
        "##Questions - Please type your answers in here directly\n",
        "\n",
        "1. Are your measurements A-C' consistent with each other? Explain why or why not; if they are not consistent, what does this mean? \n",
        "\n",
        "2. How does the error (standard deviation) of a single measurement scale with the number of periods counted? \n",
        "\n",
        "3. How much more precise are the platform measurements than the hand measurements? \n",
        "\n",
        "4. Evaluate the following argument, being as quantitative as you can: \"The platform measurements aren't more precise - they are just faster. If I wanted to get the same level of precision using the hand counter, I could just count more periods.\""
      ]
    },
    {
      "cell_type": "markdown",
      "metadata": {
        "id": "4A38-5vONvy8"
      },
      "source": [
        "##Analysis of displacement measurements\n",
        "1. Calculate the mean ($\\mu$), standard deviation ($\\sigma$), and standard error of the mean (s.e.m.) for each of the 7 displacement measurements. Use 1/(N-1) to calculate the standard deviation. Print these out as a table.\n",
        "2. Consider the three sets of measurements at \"0\" displacement. Do you think you can group them all together and treat them as measuring the same length? Either way, calculate the mean ($\\mu$), standard deviation ($\\sigma$), and standard error of the mean (s.e.m.) for the \"0\" displacement measurements, taken together.\n",
        "3. Make an error plot of period vs. displacement. Use the s.e.m. for the y-error bars. Extra fancy (optional): add x-error bars representing how much uncertainty you think there is in your adjustment of the position (1 full turn = 1 mm, so 1/4 turn would be 250 $\\mu$m and 1/12 turn (the difference between noon and 1 on a clock) would be 83 $\\mu$m.  \n",
        "4. Using $T = 2\\pi \\sqrt{\\frac{L}{g}}$,  $g = 9.802$, and the mean of the 0 displacement measurements of the period $T$, calculate the length at 0 displacement. Now predict the period in the range of -2 to 2 mm above and below this length and plot this prediction over your data with a black dashed line. *(Note: this is not the best way to fit the length-period relation to the data, because we are only using one set of measurements (at 0 displacement). We'll learn a better way soon!)*"
      ]
    },
    {
      "cell_type": "code",
      "metadata": {
        "id": "CRpQbJaYRHKs"
      },
      "source": [
        "[] ##Write your code to analyze the displacement measurements here"
      ],
      "execution_count": null,
      "outputs": []
    },
    {
      "cell_type": "markdown",
      "metadata": {
        "id": "7jBqdeuYRQmK"
      },
      "source": [
        "##Questions - Please type your answers in here directly\n",
        "1. Explain how you decided whether or not you could group together the 3 sets of 0-displacement measurements?\n",
        "2. When you group together the 3 sets of 0-displacement measurements, is the standard deviation greater or less than the standard deviation of a single set of measurements? Is the standard error of the mean greater or less for the set of 3 than for a single set? Explain what this means."
      ]
    }
  ]
}